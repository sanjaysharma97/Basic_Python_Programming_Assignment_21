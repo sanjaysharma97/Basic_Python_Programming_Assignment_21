{
 "cells": [
  {
   "cell_type": "markdown",
   "id": "a409a8ec",
   "metadata": {},
   "source": [
    "# Question1 Write a function that takes a list and a number as arguments. Add the number to the end of the list, then remove the first element of the list. The function should then return the updated list.\n",
    "Examples\n",
    "next_in_line([5, 6, 7, 8, 9], 1) ➞ [6, 7, 8, 9, 1]\n",
    "next_in_line([7, 6, 3, 23, 17], 10) ➞ [6, 3, 23, 17, 10]\n",
    "next_in_line([1, 10, 20, 42 ], 6) ➞ [10, 20, 42, 6]\n",
    "next_in_line([], 6) ➞ \"No list has been selected\"\n",
    "\n",
    "ANSWER-"
   ]
  },
  {
   "cell_type": "code",
   "execution_count": 3,
   "id": "743997d9",
   "metadata": {},
   "outputs": [
    {
     "name": "stdout",
     "output_type": "stream",
     "text": [
      "enter a list  5 6 7 8 9\n",
      "give number as arguments 1\n",
      "output -> [6, 7, 8, 9, 1]\n",
      "enter a list  7 6 3 23 17 \n",
      "give number as arguments 10\n",
      "output -> [6, 3, 23, 17, 10]\n",
      "enter a list  1 10 20 42 \n",
      "give number as arguments 6\n",
      "output -> [10, 20, 42, 6]\n",
      "enter a list  \n",
      "give number as arguments 6\n",
      "no list has been selected \n"
     ]
    }
   ],
   "source": [
    "def next_in_line(lst,n):\n",
    "    if len(lst)>1:\n",
    "        lst.append(n)\n",
    "        lst.remove(lst[0])\n",
    "        print(f'output -> {lst}')\n",
    "        \n",
    "    else:\n",
    "        print(\"no list has been selected \")\n",
    "for i in range(4):\n",
    "    user_input=input(\"enter a list  \")\n",
    "    user_list = [int(j) for j in user_input.split()]\n",
    "    num=int(input(\"give number as arguments \"))\n",
    "    next_in_line(user_list,num)\n",
    "        \n",
    "    "
   ]
  },
  {
   "cell_type": "markdown",
   "id": "d05c43ac",
   "metadata": {},
   "source": [
    "# Question2 Create the function that takes a list of dictionaries and returns the sum of people's budgets.\n",
    "Examples\n",
    "get_budgets([\n",
    "{ \"name\": \"John\", \"age\": 21, \"budget\": 23000 },\n",
    "{ \"name\": \"Steve\", \"age\": 32, \"budget\": 40000 },\n",
    "{ \"name\": \"Martin\", \"age\": 16, \"budget\": 2700 }\n",
    "]) ➞ 65700\n",
    "get_budgets([\n",
    "{ \"name\": \"John\", \"age\": 21, \"budget\": 29000 },\n",
    "{ \"name\": \"Steve\", 'age\": 32, \"budget\": 32000 },\n",
    "{ \"name\": \"Martin\", \"age\": 16, \"budget\": 1600 }\n",
    "]) ➞ 62600\n",
    "\n",
    "ANSWER-"
   ]
  },
  {
   "cell_type": "code",
   "execution_count": 3,
   "id": "447b19fe",
   "metadata": {},
   "outputs": [
    {
     "name": "stdout",
     "output_type": "stream",
     "text": [
      "Output ➞ 65700\n",
      "Output ➞ 62600\n",
      "Output ➞ 80000\n"
     ]
    }
   ],
   "source": [
    "def get_budgets(in_dict):\n",
    "    sum = 0\n",
    "    for ele in in_dict:\n",
    "        sum += ele[\"budget\"]\n",
    "    print(f'Output ➞ {sum}')\n",
    "    \n",
    "get_budgets([\n",
    "{ \"name\": \"John\", \"age\": 21, \"budget\": 23000 },\n",
    "{ \"name\": \"Steve\", \"age\": 32, \"budget\": 40000 },\n",
    "{ \"name\": \"Martin\", \"age\": 16, \"budget\": 2700 }\n",
    "])\n",
    "\n",
    "get_budgets([\n",
    "{ \"name\": \"John\", \"age\": 21, \"budget\": 29000 },\n",
    "{ \"name\": \"Steve\", \"age\": 32, \"budget\": 32000 },\n",
    "{ \"name\": \"Martin\", \"age\": 16, \"budget\": 1600 }\n",
    "]) \n",
    "\n",
    "\n",
    "get_budgets([\n",
    "{ \"name\": \"Sanjay\", \"age\": 25, \"budget\": 30000 },\n",
    "{ \"name\": \"Piyush\", \"age\": 27, \"budget\": 40000 },\n",
    "{ \"name\": \"Pankaj\", \"age\": 24, \"budget\": 10000 }\n",
    "])    \n",
    "   \n",
    "    "
   ]
  },
  {
   "cell_type": "markdown",
   "id": "266a2b19",
   "metadata": {},
   "source": [
    "# Question3 Create a function that takes a string and returns a string with its letters in alphabetical order.\n",
    "Examples\n",
    "alphabet_soup(\"hello\") ➞ \"ehllo\"\n",
    "alphabet_soup(\"edabit\") ➞ \"abdeit\"\n",
    "alphabet_soup(\"hacker\") ➞ \"acehkr\"\n",
    "alphabet_soup(\"geek\") ➞ \"eegk\"\n",
    "alphabet_soup(\"javascript\") ➞ \"aacijprstv\"\n",
    "\n",
    "ANSWER-"
   ]
  },
  {
   "cell_type": "code",
   "execution_count": 1,
   "id": "d47f957d",
   "metadata": {},
   "outputs": [
    {
     "name": "stdout",
     "output_type": "stream",
     "text": [
      "enter a string  hello\n",
      "hello -> ehllo\n",
      "enter a string  edabit\n",
      "edabit -> abdeit\n",
      "enter a string  hacker\n",
      "hacker -> acehkr\n",
      "enter a string  geek\n",
      "geek -> eegk\n"
     ]
    }
   ],
   "source": [
    "def alphabet_soup(str):\n",
    "    new_str=''.join(sorted(str))\n",
    "    print(f'{str} -> {new_str}')\n",
    "for i in range(4):\n",
    "    string=input(\"enter a string  \")\n",
    "    alphabet_soup(string)"
   ]
  },
  {
   "cell_type": "markdown",
   "id": "c523868a",
   "metadata": {},
   "source": [
    "# Question4 Suppose that you invest dollar10,000 for 10 years at an interest rate of 6% compounded monthly.What will be the value of your investment at the end of the 10 year period?Create a function that accepts the principal p, the term in years t, the interest rate r, and the number of compounding periods per year n. The function returns the value at the end of term rounded to the nearest cent.\n",
    "For the example above:\n",
    "compound_interest(10000, 10, 0.06, 12) ➞ 18193.97\n",
    "Note that the interest rate is given as a decimal and n=12 because with monthly compounding\n",
    "there are 12 periods per year. Compounding can also be done annually, quarterly, weekly, or\n",
    "daily.\n",
    "Examples\n",
    "compound_interest(100, 1, 0.05, 1) ➞ 105.0\n",
    "compound_interest(3500, 15, 0.1, 4) ➞ 15399.26\n",
    "compound_interest(100000, 20, 0.15, 365) ➞ 2007316.26\n",
    "\n",
    "ANSWER-"
   ]
  },
  {
   "cell_type": "code",
   "execution_count": 2,
   "id": "5463c9e2",
   "metadata": {},
   "outputs": [
    {
     "name": "stdout",
     "output_type": "stream",
     "text": [
      "enter a principal value: 10000\n",
      "ente a year: 10\n",
      "enter rate of interest: 0.06\n",
      "enter compounding per year n value: 12\n",
      "Output -> 18193.97\n",
      "enter a principal value: 100\n",
      "ente a year: 1\n",
      "enter rate of interest: 0.05\n",
      "enter compounding per year n value: 1\n",
      "Output -> 105.00\n",
      "enter a principal value: 3500\n",
      "ente a year: 15\n",
      "enter rate of interest: 0.1\n",
      "enter compounding per year n value: 4\n",
      "Output -> 15399.26\n",
      "enter a principal value: 100000\n",
      "ente a year: 20\n",
      "enter rate of interest: 0.15\n",
      "enter compounding per year n value: 365\n",
      "Output -> 2007316.26\n"
     ]
    }
   ],
   "source": [
    "def compound_interest(principal,years,roi,cp):\n",
    "    ci=principal*(1+(roi/cp))**(cp*years)\n",
    "    print(f'Output -> {ci:.2f}')\n",
    "for i in range(4):\n",
    "    p=int(input(\"enter a principal value: \"))\n",
    "    y=int(input(\"ente a year: \"))\n",
    "    IR=float(input(\"enter rate of interest: \"))\n",
    "    n=int(input(\"enter compounding per year n value: \" ))\n",
    "    compound_interest(p,y,IR,n)"
   ]
  },
  {
   "cell_type": "markdown",
   "id": "ac64742c",
   "metadata": {},
   "source": [
    "# Question5 Write a function that takes a list of elements and returns only the integers.\n",
    "Examples\n",
    "return_only_integer([9, 2, \"space\", \"car\", \"lion\", 16]) ➞ [9, 2, 16]\n",
    "return_only_integer([\"hello\", 81, \"basketball\", 123, \"fox\"]) ➞ [81, 123]\n",
    "return_only_integer([10, \"121\", 56, 20, \"car\", 3, \"lion\"]) ➞ [10, 56, 20,\n",
    "3]\n",
    "return_only_integer([\"String\", True, 3.3, 1]) ➞ [1]\n",
    "\n",
    "ANSWER-"
   ]
  },
  {
   "cell_type": "code",
   "execution_count": 9,
   "id": "c82d7c31",
   "metadata": {},
   "outputs": [
    {
     "name": "stdout",
     "output_type": "stream",
     "text": [
      "[9, 2, 'space', 'car', 'lion', 16] -> [9, 2, 16]\n",
      "['hello', 81, 'basketball', 123, 'fox'] -> [81, 123]\n",
      "[10, '121', 56, 20, 'car', 3, 'lion'] -> [10, 56, 20, 3]\n",
      "['String', True, 3.3, 1] -> [1]\n",
      "['Ineuron', True, 3.3, 1, 'sanjay', 90] -> [1, 90]\n"
     ]
    }
   ],
   "source": [
    "def return_only_integer(lst):\n",
    "    new_lst=[]\n",
    "    for i in lst:\n",
    "        if type(i)==int:\n",
    "            new_lst.append(i)\n",
    "    print(f'{lst} -> {new_lst}')\n",
    "\n",
    "return_only_integer([9, 2, \"space\", \"car\", \"lion\", 16])\n",
    "return_only_integer([\"hello\", 81, \"basketball\", 123, \"fox\"])\n",
    "return_only_integer([10, \"121\", 56, 20, \"car\", 3, \"lion\"]) \n",
    "return_only_integer([\"String\", True, 3.3, 1])\n",
    "return_only_integer([\"Ineuron\", True, 3.3, 1,\"sanjay\",90])\n"
   ]
  },
  {
   "cell_type": "code",
   "execution_count": null,
   "id": "439ddbd9",
   "metadata": {},
   "outputs": [],
   "source": []
  }
 ],
 "metadata": {
  "kernelspec": {
   "display_name": "Python 3 (ipykernel)",
   "language": "python",
   "name": "python3"
  },
  "language_info": {
   "codemirror_mode": {
    "name": "ipython",
    "version": 3
   },
   "file_extension": ".py",
   "mimetype": "text/x-python",
   "name": "python",
   "nbconvert_exporter": "python",
   "pygments_lexer": "ipython3",
   "version": "3.9.12"
  }
 },
 "nbformat": 4,
 "nbformat_minor": 5
}
